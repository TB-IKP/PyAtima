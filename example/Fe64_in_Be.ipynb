{
 "cells": [
  {
   "cell_type": "markdown",
   "id": "4799ce97-c6a5-470d-86d5-bc342c5a09e8",
   "metadata": {},
   "source": [
    "# Stopping calculations with PyAtima"
   ]
  },
  {
   "cell_type": "code",
   "execution_count": 1,
   "id": "2731ec9c-5fc6-4e69-8e18-6a58ea4acc96",
   "metadata": {},
   "outputs": [],
   "source": [
    "import PyAtima as pa"
   ]
  },
  {
   "cell_type": "markdown",
   "id": "daff1a89-8936-438a-961c-f1c5b74790e5",
   "metadata": {},
   "source": [
    "Calculate the the stopping of <sup>64</sup>Fe ions at 100 MeV/u in \n",
    "100 mg/cm<sup>2</sup> of beryllium."
   ]
  },
  {
   "cell_type": "code",
   "execution_count": 2,
   "id": "43a69a42-26a7-450b-b1b8-e423a5c77997",
   "metadata": {},
   "outputs": [],
   "source": [
    "atima = pa.PyAtima(Zp=26,Ap=64,E=100,\n",
    "                   Zt=4,At=9.01,t=100)"
   ]
  },
  {
   "cell_type": "markdown",
   "id": "cacc5df7-ba6b-42f9-90af-ca733a7f1e20",
   "metadata": {},
   "source": [
    "Results can be accessed from the *results* dictionary."
   ]
  },
  {
   "cell_type": "code",
   "execution_count": 3,
   "id": "1b3c653e-8e6d-4b3a-99d0-88eef3b977fd",
   "metadata": {},
   "outputs": [
    {
     "data": {
      "text/plain": [
       "{'dE/dx': 3.992792,\n",
       " 'E': 93.613152,\n",
       " 'std_E': 0.038404,\n",
       " 'range': 932.259251,\n",
       " 'std_range': 1.321514,\n",
       " 'std_ang': 1.216444}"
      ]
     },
     "execution_count": 3,
     "metadata": {},
     "output_type": "execute_result"
    }
   ],
   "source": [
    "atima.results"
   ]
  },
  {
   "cell_type": "code",
   "execution_count": null,
   "id": "87553f87-aed4-4b45-8987-4d86950913ff",
   "metadata": {},
   "outputs": [],
   "source": []
  }
 ],
 "metadata": {
  "kernelspec": {
   "display_name": "Python 3 (ipykernel)",
   "language": "python",
   "name": "python3"
  },
  "language_info": {
   "codemirror_mode": {
    "name": "ipython",
    "version": 3
   },
   "file_extension": ".py",
   "mimetype": "text/x-python",
   "name": "python",
   "nbconvert_exporter": "python",
   "pygments_lexer": "ipython3",
   "version": "3.9.15"
  }
 },
 "nbformat": 4,
 "nbformat_minor": 5
}
